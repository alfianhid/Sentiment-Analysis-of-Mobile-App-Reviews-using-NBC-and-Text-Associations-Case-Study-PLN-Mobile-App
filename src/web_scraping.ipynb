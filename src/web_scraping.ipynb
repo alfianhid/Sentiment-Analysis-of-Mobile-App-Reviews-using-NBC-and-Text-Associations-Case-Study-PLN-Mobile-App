{
  "nbformat": 4,
  "nbformat_minor": 0,
  "metadata": {
    "colab": {
      "name": "SCRAPING ULASAN PENGGUNA APLIKASI PLN MOBILE PADA SITUS GOOGLE PLAY STORE.ipynb",
      "provenance": [],
      "collapsed_sections": []
    },
    "kernelspec": {
      "display_name": "Python 3",
      "name": "python3"
    }
  },
  "cells": [
    {
      "cell_type": "markdown",
      "metadata": {
        "id": "P0wA2wcvbWZF"
      },
      "source": [
        "**Install library untuk scraping data**"
      ]
    },
    {
      "cell_type": "code",
      "metadata": {
        "colab": {
          "base_uri": "https://localhost:8080/"
        },
        "id": "we0MhlUF_-uO",
        "outputId": "b0a236e2-f043-48a7-9e05-7a1762d0abf5"
      },
      "source": [
        "!pip install google-play-scraper # https://github.com/JoMingyu/google-play-scraper"
      ],
      "execution_count": null,
      "outputs": [
        {
          "output_type": "stream",
          "text": [
            "Collecting google-play-scraper\n",
            "\u001b[?25l  Downloading https://files.pythonhosted.org/packages/c0/de/a214aa08a68569ddb4e149f951c4978d274648de412f0809628f05c35bdf/google-play-scraper-1.0.0.tar.gz (52kB)\n",
            "\r\u001b[K     |██████▎                         | 10kB 16.0MB/s eta 0:00:01\r\u001b[K     |████████████▋                   | 20kB 22.1MB/s eta 0:00:01\r\u001b[K     |███████████████████             | 30kB 11.3MB/s eta 0:00:01\r\u001b[K     |█████████████████████████▏      | 40kB 8.7MB/s eta 0:00:01\r\u001b[K     |███████████████████████████████▌| 51kB 5.4MB/s eta 0:00:01\r\u001b[K     |████████████████████████████████| 61kB 3.7MB/s \n",
            "\u001b[?25hBuilding wheels for collected packages: google-play-scraper\n",
            "  Building wheel for google-play-scraper (setup.py) ... \u001b[?25l\u001b[?25hdone\n",
            "  Created wheel for google-play-scraper: filename=google_play_scraper-1.0.0-cp37-none-any.whl size=24070 sha256=ba5fa192cfc79bfc4c7a9b3b10c5fe380d8183c4673d33931ae0d85e6456baa7\n",
            "  Stored in directory: /root/.cache/pip/wheels/e9/98/5a/917dd15a6f100d35a26c5f6f0ae99895ae861aff74fafa1b08\n",
            "Successfully built google-play-scraper\n",
            "Installing collected packages: google-play-scraper\n",
            "Successfully installed google-play-scraper-1.0.0\n"
          ],
          "name": "stdout"
        }
      ]
    },
    {
      "cell_type": "markdown",
      "metadata": {
        "id": "mUGNWcMnbf2R"
      },
      "source": [
        "**Import library yang telah kita install bersama dengan beberapa library tambahan**"
      ]
    },
    {
      "cell_type": "code",
      "metadata": {
        "id": "KO_DkQb1AeSY"
      },
      "source": [
        "import pandas as pd # library untuk mengubah hasil scraping menjadi dataframe dan mengelola dataframe\n",
        "from tqdm import tqdm # library untuk menampilkan progress bar pada proses scraping\n",
        "\n",
        "from google_play_scraper import Sort, reviews, app # library untuk scraping data"
      ],
      "execution_count": null,
      "outputs": []
    },
    {
      "cell_type": "markdown",
      "metadata": {
        "id": "gK0jZFywcsl0"
      },
      "source": [
        "**Definisikan App ID dan masukkan ke dalam function untuk scraping data**"
      ]
    },
    {
      "cell_type": "code",
      "metadata": {
        "colab": {
          "base_uri": "https://localhost:8080/"
        },
        "id": "vRIID99ZCfjv",
        "outputId": "36edfe49-ced9-42c1-c678-ab6a708fb71f"
      },
      "source": [
        "# mendefinisikan App ID dan variabel hasil scraping data\n",
        "app_id = ['com.icon.pln123']\n",
        "app_reviews = []\n",
        "\n",
        "# function untuk scraping data berada di dalam perulangan For dengan beberapa kondisi tertentu\n",
        "for app in tqdm(app_id):\n",
        "  for score in list(range(1, 6)):\n",
        "    for sort_order in [Sort.MOST_RELEVANT, Sort.NEWEST]:\n",
        "      # scraping data ulasan per pengguna\n",
        "      rvs, _ = reviews(\n",
        "        app,\n",
        "        lang = 'id',\n",
        "        country = 'id',\n",
        "        sort = sort_order,\n",
        "        count= 400 if score == 3 else 400,\n",
        "        filter_score_with = score\n",
        "      )\n",
        "      # menggabungkan hasil scraping ulasan per pengguna menjadi satu hasil dalam bentuk List\n",
        "      for r in rvs:\n",
        "        r['sortOrder'] = 'most_relevant' if sort_order == Sort.MOST_RELEVANT else 'newest'\n",
        "        r['appId'] = app\n",
        "      app_reviews.extend(rvs)"
      ],
      "execution_count": null,
      "outputs": [
        {
          "output_type": "stream",
          "text": [
            "100%|██████████| 1/1 [00:14<00:00, 14.31s/it]\n"
          ],
          "name": "stderr"
        }
      ]
    },
    {
      "cell_type": "markdown",
      "metadata": {
        "id": "Cjwjlej0eVWi"
      },
      "source": [
        "**Hitung jumlah ulasan yang kita peroleh dari hasil scraping**"
      ]
    },
    {
      "cell_type": "code",
      "metadata": {
        "colab": {
          "base_uri": "https://localhost:8080/"
        },
        "id": "JsLRAK3beUc2",
        "outputId": "aadd1b14-e241-480d-af1c-b4d22a145a26"
      },
      "source": [
        "len(app_reviews) # Karena ada batasan dari library \"google-play-scraper\", sehingga kita tidak dapat scraping seluruh hasil ulasan pengguna"
      ],
      "execution_count": null,
      "outputs": [
        {
          "output_type": "execute_result",
          "data": {
            "text/plain": [
              "4000"
            ]
          },
          "metadata": {
            "tags": []
          },
          "execution_count": 5
        }
      ]
    },
    {
      "cell_type": "code",
      "metadata": {
        "id": "zYg9tk0KaQrk",
        "colab": {
          "base_uri": "https://localhost:8080/"
        },
        "outputId": "4d07e0be-fdf1-40a9-85dd-8d5c76691ea2"
      },
      "source": [
        "print(type(app_reviews))"
      ],
      "execution_count": null,
      "outputs": [
        {
          "output_type": "stream",
          "text": [
            "<class 'list'>\n"
          ],
          "name": "stdout"
        }
      ]
    },
    {
      "cell_type": "markdown",
      "metadata": {
        "id": "qY4EuvwTfMbV"
      },
      "source": [
        "**Konversi hasil scraping data menjadi dataframe**"
      ]
    },
    {
      "cell_type": "code",
      "metadata": {
        "colab": {
          "base_uri": "https://localhost:8080/",
          "height": 949
        },
        "id": "Pqvlo39rWRbB",
        "outputId": "6ea46b29-f46c-4a6f-9201-8cc4683487fe"
      },
      "source": [
        "df = pd.DataFrame(app_reviews)\n",
        "df"
      ],
      "execution_count": null,
      "outputs": [
        {
          "output_type": "execute_result",
          "data": {
            "text/html": [
              "<div>\n",
              "<style scoped>\n",
              "    .dataframe tbody tr th:only-of-type {\n",
              "        vertical-align: middle;\n",
              "    }\n",
              "\n",
              "    .dataframe tbody tr th {\n",
              "        vertical-align: top;\n",
              "    }\n",
              "\n",
              "    .dataframe thead th {\n",
              "        text-align: right;\n",
              "    }\n",
              "</style>\n",
              "<table border=\"1\" class=\"dataframe\">\n",
              "  <thead>\n",
              "    <tr style=\"text-align: right;\">\n",
              "      <th></th>\n",
              "      <th>reviewId</th>\n",
              "      <th>userName</th>\n",
              "      <th>userImage</th>\n",
              "      <th>content</th>\n",
              "      <th>score</th>\n",
              "      <th>thumbsUpCount</th>\n",
              "      <th>reviewCreatedVersion</th>\n",
              "      <th>at</th>\n",
              "      <th>replyContent</th>\n",
              "      <th>repliedAt</th>\n",
              "      <th>sortOrder</th>\n",
              "      <th>appId</th>\n",
              "    </tr>\n",
              "  </thead>\n",
              "  <tbody>\n",
              "    <tr>\n",
              "      <th>0</th>\n",
              "      <td>gp:AOqpTOFlLtbRYUoRV2yDvouVG1wqoRSGcw6VYntuYqP...</td>\n",
              "      <td>Jonatan Tj</td>\n",
              "      <td>https://play-lh.googleusercontent.com/a-/AOh14...</td>\n",
              "      <td>Program nambah id pelanggan masih belum bisa s...</td>\n",
              "      <td>1</td>\n",
              "      <td>14</td>\n",
              "      <td>5.1.4</td>\n",
              "      <td>2021-05-28 08:10:14</td>\n",
              "      <td>Mohon maaf atas kendalanya Kak Jonatan. Penamb...</td>\n",
              "      <td>2021-05-27 15:39:48</td>\n",
              "      <td>most_relevant</td>\n",
              "      <td>com.icon.pln123</td>\n",
              "    </tr>\n",
              "    <tr>\n",
              "      <th>1</th>\n",
              "      <td>gp:AOqpTOFRyZxH5GWHkn9aXds3jBBDwEGYYkmtPl4zvs2...</td>\n",
              "      <td>Feri Syaputra</td>\n",
              "      <td>https://play-lh.googleusercontent.com/a/AATXAJ...</td>\n",
              "      <td>Saya melakukan pengaduan pukul 08.28 wib terka...</td>\n",
              "      <td>1</td>\n",
              "      <td>1</td>\n",
              "      <td>5.1.4</td>\n",
              "      <td>2021-05-29 05:18:18</td>\n",
              "      <td>Mohon maaf atas keluhan Kak Feri yang belum te...</td>\n",
              "      <td>2021-05-29 06:50:03</td>\n",
              "      <td>most_relevant</td>\n",
              "      <td>com.icon.pln123</td>\n",
              "    </tr>\n",
              "    <tr>\n",
              "      <th>2</th>\n",
              "      <td>gp:AOqpTOG5rK90KLWikYSd2CX6NFgQe7rsTYUTqsRlmgG...</td>\n",
              "      <td>Handra Fatri</td>\n",
              "      <td>https://play-lh.googleusercontent.com/a-/AOh14...</td>\n",
              "      <td>Ajukan penambahan daya pakai promo 202 ribu ya...</td>\n",
              "      <td>1</td>\n",
              "      <td>0</td>\n",
              "      <td>5.1.1</td>\n",
              "      <td>2021-05-29 07:07:21</td>\n",
              "      <td>Mohon maaf atas keluhan yang dialami Kak Handr...</td>\n",
              "      <td>2021-05-29 07:21:39</td>\n",
              "      <td>most_relevant</td>\n",
              "      <td>com.icon.pln123</td>\n",
              "    </tr>\n",
              "    <tr>\n",
              "      <th>3</th>\n",
              "      <td>gp:AOqpTOF11keKPxxNojAYe-B1UZce8OfsDEJHrQP5DkQ...</td>\n",
              "      <td>Aldhy Nasution</td>\n",
              "      <td>https://play-lh.googleusercontent.com/a/AATXAJ...</td>\n",
              "      <td>Kenapa untuk yg mau buat pasang baru lokasi ha...</td>\n",
              "      <td>1</td>\n",
              "      <td>0</td>\n",
              "      <td>5.1.1</td>\n",
              "      <td>2021-05-29 01:48:24</td>\n",
              "      <td>Mohon maaf Kak Aldhy .Utk perihal pasang baru ...</td>\n",
              "      <td>2021-05-29 02:14:37</td>\n",
              "      <td>most_relevant</td>\n",
              "      <td>com.icon.pln123</td>\n",
              "    </tr>\n",
              "    <tr>\n",
              "      <th>4</th>\n",
              "      <td>gp:AOqpTOGVn3yMQYXAwDXH3Iugt_ZoBscdqrKLQOCqXI-...</td>\n",
              "      <td>Rijalul Fikri</td>\n",
              "      <td>https://play-lh.googleusercontent.com/a-/AOh14...</td>\n",
              "      <td>Parah, beli token melalui aplikasi sudah 5 har...</td>\n",
              "      <td>1</td>\n",
              "      <td>3</td>\n",
              "      <td>5.0.60</td>\n",
              "      <td>2021-05-22 09:17:51</td>\n",
              "      <td>Mohon maaf atas ketidaknyamanannya Kak Fikri. ...</td>\n",
              "      <td>2021-05-22 10:15:22</td>\n",
              "      <td>most_relevant</td>\n",
              "      <td>com.icon.pln123</td>\n",
              "    </tr>\n",
              "    <tr>\n",
              "      <th>...</th>\n",
              "      <td>...</td>\n",
              "      <td>...</td>\n",
              "      <td>...</td>\n",
              "      <td>...</td>\n",
              "      <td>...</td>\n",
              "      <td>...</td>\n",
              "      <td>...</td>\n",
              "      <td>...</td>\n",
              "      <td>...</td>\n",
              "      <td>...</td>\n",
              "      <td>...</td>\n",
              "      <td>...</td>\n",
              "    </tr>\n",
              "    <tr>\n",
              "      <th>3995</th>\n",
              "      <td>gp:AOqpTOHIhxhU7FBRpIxIesm24O2mKEwU0ZH5lnigVaB...</td>\n",
              "      <td>David PLN MATANG</td>\n",
              "      <td>https://play-lh.googleusercontent.com/a-/AOh14...</td>\n",
              "      <td>Mntap</td>\n",
              "      <td>5</td>\n",
              "      <td>0</td>\n",
              "      <td>5.1.1</td>\n",
              "      <td>2021-05-26 07:39:33</td>\n",
              "      <td>Hi Kak David, Wah seneng deh baca ulasannya. T...</td>\n",
              "      <td>2021-05-26 07:44:39</td>\n",
              "      <td>newest</td>\n",
              "      <td>com.icon.pln123</td>\n",
              "    </tr>\n",
              "    <tr>\n",
              "      <th>3996</th>\n",
              "      <td>gp:AOqpTOF6Dtgzir-zgLjZ1O0obVWec0adW5RwabkpXyM...</td>\n",
              "      <td>APOH DUQ</td>\n",
              "      <td>https://play-lh.googleusercontent.com/a-/AOh14...</td>\n",
              "      <td>Di aplikasi yang lama ada info tarif listrikny...</td>\n",
              "      <td>5</td>\n",
              "      <td>0</td>\n",
              "      <td>5.1.1</td>\n",
              "      <td>2021-05-26 07:32:12</td>\n",
              "      <td>Hi Kak Apoh, untuk tarif dasar listrik Kakak d...</td>\n",
              "      <td>2021-05-26 07:53:01</td>\n",
              "      <td>newest</td>\n",
              "      <td>com.icon.pln123</td>\n",
              "    </tr>\n",
              "    <tr>\n",
              "      <th>3997</th>\n",
              "      <td>gp:AOqpTOHJkat5SbHRkNO_LUOvsCWqTlokLnfxjILGZp6...</td>\n",
              "      <td>Faisal Reza</td>\n",
              "      <td>https://play-lh.googleusercontent.com/a-/AOh14...</td>\n",
              "      <td>Good... trus update utk lebih baik dalam hal p...</td>\n",
              "      <td>5</td>\n",
              "      <td>0</td>\n",
              "      <td>None</td>\n",
              "      <td>2021-05-26 07:18:52</td>\n",
              "      <td>Siap Pak Faisal, maaciiw ya udah puas gunakan ...</td>\n",
              "      <td>2021-05-26 07:30:34</td>\n",
              "      <td>newest</td>\n",
              "      <td>com.icon.pln123</td>\n",
              "    </tr>\n",
              "    <tr>\n",
              "      <th>3998</th>\n",
              "      <td>gp:AOqpTOGQhN5F2UsTm5njg2XyfB1a9HS0i-05tsB6VqC...</td>\n",
              "      <td>andi azis zalil</td>\n",
              "      <td>https://play-lh.googleusercontent.com/a-/AOh14...</td>\n",
              "      <td>Dukung kok</td>\n",
              "      <td>5</td>\n",
              "      <td>0</td>\n",
              "      <td>5.0.56</td>\n",
              "      <td>2021-05-26 07:13:56</td>\n",
              "      <td>Halo Kakak Andi, Makasih yaa buat review &amp; rat...</td>\n",
              "      <td>2021-05-26 07:29:10</td>\n",
              "      <td>newest</td>\n",
              "      <td>com.icon.pln123</td>\n",
              "    </tr>\n",
              "    <tr>\n",
              "      <th>3999</th>\n",
              "      <td>gp:AOqpTOHlZQXyTbO1yCUmstenfVMP9nDyJucRmZDM_wh...</td>\n",
              "      <td>Youdie Arviansyah</td>\n",
              "      <td>https://play-lh.googleusercontent.com/a/AATXAJ...</td>\n",
              "      <td>Sangat mempermudah pelanggan</td>\n",
              "      <td>5</td>\n",
              "      <td>0</td>\n",
              "      <td>5.1.1</td>\n",
              "      <td>2021-05-26 06:04:44</td>\n",
              "      <td>Hi Bapak Youdie, Makasih udah suka &amp; puas meng...</td>\n",
              "      <td>2021-05-26 06:10:32</td>\n",
              "      <td>newest</td>\n",
              "      <td>com.icon.pln123</td>\n",
              "    </tr>\n",
              "  </tbody>\n",
              "</table>\n",
              "<p>4000 rows × 12 columns</p>\n",
              "</div>"
            ],
            "text/plain": [
              "                                               reviewId  ...            appId\n",
              "0     gp:AOqpTOFlLtbRYUoRV2yDvouVG1wqoRSGcw6VYntuYqP...  ...  com.icon.pln123\n",
              "1     gp:AOqpTOFRyZxH5GWHkn9aXds3jBBDwEGYYkmtPl4zvs2...  ...  com.icon.pln123\n",
              "2     gp:AOqpTOG5rK90KLWikYSd2CX6NFgQe7rsTYUTqsRlmgG...  ...  com.icon.pln123\n",
              "3     gp:AOqpTOF11keKPxxNojAYe-B1UZce8OfsDEJHrQP5DkQ...  ...  com.icon.pln123\n",
              "4     gp:AOqpTOGVn3yMQYXAwDXH3Iugt_ZoBscdqrKLQOCqXI-...  ...  com.icon.pln123\n",
              "...                                                 ...  ...              ...\n",
              "3995  gp:AOqpTOHIhxhU7FBRpIxIesm24O2mKEwU0ZH5lnigVaB...  ...  com.icon.pln123\n",
              "3996  gp:AOqpTOF6Dtgzir-zgLjZ1O0obVWec0adW5RwabkpXyM...  ...  com.icon.pln123\n",
              "3997  gp:AOqpTOHJkat5SbHRkNO_LUOvsCWqTlokLnfxjILGZp6...  ...  com.icon.pln123\n",
              "3998  gp:AOqpTOGQhN5F2UsTm5njg2XyfB1a9HS0i-05tsB6VqC...  ...  com.icon.pln123\n",
              "3999  gp:AOqpTOHlZQXyTbO1yCUmstenfVMP9nDyJucRmZDM_wh...  ...  com.icon.pln123\n",
              "\n",
              "[4000 rows x 12 columns]"
            ]
          },
          "metadata": {
            "tags": []
          },
          "execution_count": 7
        }
      ]
    },
    {
      "cell_type": "code",
      "metadata": {
        "colab": {
          "base_uri": "https://localhost:8080/"
        },
        "id": "plfQS7hcQXZN",
        "outputId": "3e0966a1-ce3b-4ccf-f575-dda89ea378c7"
      },
      "source": [
        "df['score'].value_counts()"
      ],
      "execution_count": null,
      "outputs": [
        {
          "output_type": "execute_result",
          "data": {
            "text/plain": [
              "5    800\n",
              "3    800\n",
              "1    800\n",
              "4    800\n",
              "2    800\n",
              "Name: score, dtype: int64"
            ]
          },
          "metadata": {
            "tags": []
          },
          "execution_count": 8
        }
      ]
    },
    {
      "cell_type": "markdown",
      "metadata": {
        "id": "8dQHhDg_FqZj"
      },
      "source": [
        "**Hapus ulasan dengan rating 3 bintang agar dataset balanced**"
      ]
    },
    {
      "cell_type": "code",
      "metadata": {
        "colab": {
          "base_uri": "https://localhost:8080/"
        },
        "id": "atTnpLn8FeSG",
        "outputId": "58b820fe-3258-4b72-8149-5ea9c10f66f8"
      },
      "source": [
        "df.drop(df.loc[df['score']==3].index, inplace=True)\n",
        "len(df)"
      ],
      "execution_count": null,
      "outputs": [
        {
          "output_type": "execute_result",
          "data": {
            "text/plain": [
              "3200"
            ]
          },
          "metadata": {
            "tags": []
          },
          "execution_count": 9
        }
      ]
    },
    {
      "cell_type": "markdown",
      "metadata": {
        "id": "-s8Yu9a8fTFC"
      },
      "source": [
        "**Hapus kolom yang tidak digunakan**"
      ]
    },
    {
      "cell_type": "code",
      "metadata": {
        "id": "H3cHbujcOOq2"
      },
      "source": [
        "df.drop(['reviewId', 'userImage', 'userName', 'score', 'thumbsUpCount', 'reviewCreatedVersion', 'at', 'replyContent', 'repliedAt','sortOrder','appId'], axis=1, inplace=True)"
      ],
      "execution_count": null,
      "outputs": []
    },
    {
      "cell_type": "code",
      "metadata": {
        "id": "SQccUWW4IPdp",
        "colab": {
          "base_uri": "https://localhost:8080/",
          "height": 323
        },
        "outputId": "41de49ef-f684-41a1-bc45-bc9b6749e13f"
      },
      "source": [
        "pd.options.display.max_colwidth=1000\n",
        "df.head()"
      ],
      "execution_count": null,
      "outputs": [
        {
          "output_type": "execute_result",
          "data": {
            "text/html": [
              "<div>\n",
              "<style scoped>\n",
              "    .dataframe tbody tr th:only-of-type {\n",
              "        vertical-align: middle;\n",
              "    }\n",
              "\n",
              "    .dataframe tbody tr th {\n",
              "        vertical-align: top;\n",
              "    }\n",
              "\n",
              "    .dataframe thead th {\n",
              "        text-align: right;\n",
              "    }\n",
              "</style>\n",
              "<table border=\"1\" class=\"dataframe\">\n",
              "  <thead>\n",
              "    <tr style=\"text-align: right;\">\n",
              "      <th></th>\n",
              "      <th>content</th>\n",
              "    </tr>\n",
              "  </thead>\n",
              "  <tbody>\n",
              "    <tr>\n",
              "      <th>0</th>\n",
              "      <td>Program nambah id pelanggan masih belum bisa saya input, ket: selalu saja, sistem sedang sibuk,silakan coba beberapa saat lagi V001. Kenapa keterangan tiket nomer tiket 1183886 sudah terselesaikan/ditutup, sedangkan masalah masih belum terselesaikan (semua instruksi dari balasan email sdh saya dicoba). Ini balasan email dari help desk Kepada Yth. Bapak/Ibu, Keluhan Bapak/Ibu dengan Nomor Tiket 1183886 terkait NEW PLN MOBILE KELUHAN telah di selesaikan</td>\n",
              "    </tr>\n",
              "    <tr>\n",
              "      <th>1</th>\n",
              "      <td>Saya melakukan pengaduan pukul 08.28 wib terkait matinya lampu dirumah saya sedangkan dirumah tetangga tidak. Riwayat status di aplikasi penugasan regu pukul 08.31 wib dan dalam perjalanan pukul 10.52 wib. Sampai sekarang pukul 12.18 petugas pln belum juga datang.</td>\n",
              "    </tr>\n",
              "    <tr>\n",
              "      <th>2</th>\n",
              "      <td>Ajukan penambahan daya pakai promo 202 ribu yang lewat aplikasi ini. Udah 2 minggu gak ada penanganan. Bikin pengaduan statusnya langsung selesai tanpa tindak lanjut. Ini lah potret kalau BUMN masih diisi oleh orang-oranh Old Mind dan Korup. Gak bakalan maju Negara kita ini. Warung kecil jualan token listrik bisa untung. PLN jualan listrik tp Utangnya nambah. Hancur hancur.</td>\n",
              "    </tr>\n",
              "    <tr>\n",
              "      <th>3</th>\n",
              "      <td>Kenapa untuk yg mau buat pasang baru lokasi hanya di jawa timur? Tolong dong penjelasannya, saya download apps ini karena mau pasang baru, dan saya sudah coba dr website, tp gk bs makanya saya download apps ini eh malah makin gk bs tolong dong diperbaiki apps ini, terima kasih</td>\n",
              "    </tr>\n",
              "    <tr>\n",
              "      <th>4</th>\n",
              "      <td>Parah, beli token melalui aplikasi sudah 5 hari keterangannya masih diproses. Sudah melakukan PENGADUAN melalui aplikasi juga, tidak ada tindak lanjut tapi laporan saya keterangannya sudah selesai. Sudah tiga kali pelaporan dan tidak ada kemajuan sama sekali.</td>\n",
              "    </tr>\n",
              "  </tbody>\n",
              "</table>\n",
              "</div>"
            ],
            "text/plain": [
              "                                                                                                                                                                                                                                                                                                                                                                                                                                                                   content\n",
              "0  Program nambah id pelanggan masih belum bisa saya input, ket: selalu saja, sistem sedang sibuk,silakan coba beberapa saat lagi V001. Kenapa keterangan tiket nomer tiket 1183886 sudah terselesaikan/ditutup, sedangkan masalah masih belum terselesaikan (semua instruksi dari balasan email sdh saya dicoba). Ini balasan email dari help desk Kepada Yth. Bapak/Ibu, Keluhan Bapak/Ibu dengan Nomor Tiket 1183886 terkait NEW PLN MOBILE KELUHAN telah di selesaikan\n",
              "1                                                                                                                                                                                                 Saya melakukan pengaduan pukul 08.28 wib terkait matinya lampu dirumah saya sedangkan dirumah tetangga tidak. Riwayat status di aplikasi penugasan regu pukul 08.31 wib dan dalam perjalanan pukul 10.52 wib. Sampai sekarang pukul 12.18 petugas pln belum juga datang.\n",
              "2                                                                                 Ajukan penambahan daya pakai promo 202 ribu yang lewat aplikasi ini. Udah 2 minggu gak ada penanganan. Bikin pengaduan statusnya langsung selesai tanpa tindak lanjut. Ini lah potret kalau BUMN masih diisi oleh orang-oranh Old Mind dan Korup. Gak bakalan maju Negara kita ini. Warung kecil jualan token listrik bisa untung. PLN jualan listrik tp Utangnya nambah. Hancur hancur.\n",
              "3                                                                                                                                                                                    Kenapa untuk yg mau buat pasang baru lokasi hanya di jawa timur? Tolong dong penjelasannya, saya download apps ini karena mau pasang baru, dan saya sudah coba dr website, tp gk bs makanya saya download apps ini eh malah makin gk bs tolong dong diperbaiki apps ini, terima kasih\n",
              "4                                                                                                                                                                                                      Parah, beli token melalui aplikasi sudah 5 hari keterangannya masih diproses. Sudah melakukan PENGADUAN melalui aplikasi juga, tidak ada tindak lanjut tapi laporan saya keterangannya sudah selesai. Sudah tiga kali pelaporan dan tidak ada kemajuan sama sekali."
            ]
          },
          "metadata": {
            "tags": []
          },
          "execution_count": 18
        }
      ]
    },
    {
      "cell_type": "markdown",
      "metadata": {
        "id": "wNAy30FQfwVx"
      },
      "source": [
        "**Konversi dataframe menjadi bentuk CSV**"
      ]
    },
    {
      "cell_type": "code",
      "metadata": {
        "id": "Xi83bHdBQCm9"
      },
      "source": [
        "df.to_csv(\"raw_dataset.csv\", index=None, header=None)"
      ],
      "execution_count": null,
      "outputs": []
    },
    {
      "cell_type": "markdown",
      "metadata": {
        "id": "VHq7bOxgfpbT"
      },
      "source": [
        "**Download file CSV**"
      ]
    },
    {
      "cell_type": "code",
      "metadata": {
        "id": "jpFGW2rXTZva",
        "colab": {
          "base_uri": "https://localhost:8080/",
          "height": 17
        },
        "outputId": "96901b77-773a-41d0-eb65-5e607cc0411c"
      },
      "source": [
        "from google.colab import files\n",
        "files.download(\"raw_dataset.csv\")"
      ],
      "execution_count": null,
      "outputs": [
        {
          "output_type": "display_data",
          "data": {
            "application/javascript": [
              "\n",
              "    async function download(id, filename, size) {\n",
              "      if (!google.colab.kernel.accessAllowed) {\n",
              "        return;\n",
              "      }\n",
              "      const div = document.createElement('div');\n",
              "      const label = document.createElement('label');\n",
              "      label.textContent = `Downloading \"${filename}\": `;\n",
              "      div.appendChild(label);\n",
              "      const progress = document.createElement('progress');\n",
              "      progress.max = size;\n",
              "      div.appendChild(progress);\n",
              "      document.body.appendChild(div);\n",
              "\n",
              "      const buffers = [];\n",
              "      let downloaded = 0;\n",
              "\n",
              "      const channel = await google.colab.kernel.comms.open(id);\n",
              "      // Send a message to notify the kernel that we're ready.\n",
              "      channel.send({})\n",
              "\n",
              "      for await (const message of channel.messages) {\n",
              "        // Send a message to notify the kernel that we're ready.\n",
              "        channel.send({})\n",
              "        if (message.buffers) {\n",
              "          for (const buffer of message.buffers) {\n",
              "            buffers.push(buffer);\n",
              "            downloaded += buffer.byteLength;\n",
              "            progress.value = downloaded;\n",
              "          }\n",
              "        }\n",
              "      }\n",
              "      const blob = new Blob(buffers, {type: 'application/binary'});\n",
              "      const a = document.createElement('a');\n",
              "      a.href = window.URL.createObjectURL(blob);\n",
              "      a.download = filename;\n",
              "      div.appendChild(a);\n",
              "      a.click();\n",
              "      div.remove();\n",
              "    }\n",
              "  "
            ],
            "text/plain": [
              "<IPython.core.display.Javascript object>"
            ]
          },
          "metadata": {
            "tags": []
          }
        },
        {
          "output_type": "display_data",
          "data": {
            "application/javascript": [
              "download(\"download_29a48bf8-81f4-49af-85ec-a258724d1646\", \"raw_dataset.csv\", 382677)"
            ],
            "text/plain": [
              "<IPython.core.display.Javascript object>"
            ]
          },
          "metadata": {
            "tags": []
          }
        }
      ]
    }
  ]
}